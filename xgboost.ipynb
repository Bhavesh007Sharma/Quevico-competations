{
 "cells": [
  {
   "cell_type": "code",
   "execution_count": 0,
   "metadata": {
    "collapsed": false
   },
   "outputs": [
   ],
   "source": [
   ]
  },
  {
   "cell_type": "code",
   "execution_count": 0,
   "metadata": {
    "collapsed": false
   },
   "outputs": [
   ],
   "source": [
   ]
  },
  {
   "cell_type": "code",
   "execution_count": 0,
   "metadata": {
    "collapsed": false
   },
   "outputs": [
   ],
   "source": [
   ]
  },
  {
   "cell_type": "code",
   "execution_count": 0,
   "metadata": {
    "collapsed": false
   },
   "outputs": [
   ],
   "source": [
   ]
  },
  {
   "cell_type": "code",
   "execution_count": 0,
   "metadata": {
    "collapsed": false
   },
   "outputs": [
   ],
   "source": [
   ]
  },
  {
   "cell_type": "markdown",
   "metadata": {
    "collapsed": false
   },
   "source": [
    "### This is a code for classification of Hotel Cancellation . The competition is hold by Quevico AI Competitions\n"
   ]
  },
  {
   "cell_type": "markdown",
   "metadata": {
    "collapsed": false
   },
   "source": [
    "## Data Description \n",
    "## Customers cancelling reservations severely impact the results of hotels and dining facilities. It not only damages revenue, but also wastes the food in stock and personnel expenses used to provide services.The goal of this competition is to use data consisting of over 100,000 reservations to categorize reservations into those that will and will not be cancelled. The data uses actual reservations that were made in several cities across Portugal. This is a challenge that predicts cancellations. It’s also very meaningful for society because it can later be used for various purposes such as analyzing the causes behind the cancellations.\n"
   ]
  },
  {
   "cell_type": "markdown",
   "metadata": {
    "collapsed": false
   },
   "source": [
    "### Columns \n",
    "- hotel：Hotel (Resort Hotel or City Hotel)\n",
    "- lead_time：Number of days that elapsed between the entering date of the booking into the PMS and the arrival date\n",
    "- stays_in_weekend_nights：Number of weekend nights (Saturday or Sunday) the guest stayed or booked to stay at the hotel\n",
    "- stays_in_week_nights：Number of week nights (Monday to Friday) the guest stayed or booked to stay at the hotel\n",
    "- country：Country of origin. Categories are represented in the ISO 3155–3:2013 format\n",
    "- market_segment：Market segment designation. In categories, the term “TA” means “Travel Agents” and “TO” means “Tour Operators”\n",
    "- distribution_channel：Booking distribution channel. The term “TA” means “Travel Agents” and “TO” means “Tour Operators”\n",
    "- is_repeated_guest：Value indicating if the booking name was from a repeated guest (1) or not (0)\n",
    "- previous_cancellations：Number of previous bookings that were cancelled by the customer prior to the current booking\n",
    "- previous_bookings_not_canceled：Number of previous bookings not cancelled by the customer prior to the current booking\n",
    "- reserved_room_type：Code of room type reserved. Code is presented instead of designation for anonymity reasons\n",
    "- assigned_room_type：Code for the type of room assigned to the booking. Sometimes the assigned room type differs from the reserved room type due to hotel operation reasons (e.g. overbooking) or by customer request. Code is presented instead of designation for anonymity reasons.\n",
    "- booking_changes：Number of changes/amendments made to the booking from the moment the booking was entered on the PMS until the moment of check-in or cancellation\n",
    "- agent：masking\n",
    "- company：masking\n",
    "- days_in_waiting_list：Number of days the booking was in the waiting list before it was confirmed to the customer\n",
    "- customer_type：Type of booking, assuming one of four categories:Contract - when the booking has an allotment or other type of contract associated to it; Group – when the booking is associated to a group; Transient – when the booking is not part of a group or contract, and is not associated to other transient booking; Transient-party – when the booking is transient, but is associated to at least other transient booking\n",
    "- adr：Average Daily Rate as defined by dividing the sum of all lodging transactions by the total number of staying nights\n",
    "- required_car_parking_spaces：Number of car parking spaces required by the customer\n",
    "- total_of_special_requests：Number of special requests made by the customer (e.g. twin bed or high floor)"
   ]
  },
  {
   "cell_type": "code",
   "execution_count": 7,
   "metadata": {
    "collapsed": false
   },
   "outputs": [
   ],
   "source": [
    "import pandas as pd\n",
    "import matplotlib.pyplot as plt\n",
    "import numpy as np\n",
    "df=pd.read_csv(\"train.csv\")"
   ]
  },
  {
   "cell_type": "code",
   "execution_count": 8,
   "metadata": {
    "collapsed": false
   },
   "outputs": [
    {
     "name": "stdout",
     "output_type": "stream",
     "text": [
      "False\n"
     ]
    }
   ],
   "source": [
    "#lOOF FOR NAN VALUES \n",
    "print(df.isnull().values.any())"
   ]
  },
  {
   "cell_type": "code",
   "execution_count": 3,
   "metadata": {
    "collapsed": false
   },
   "outputs": [
    {
     "name": "stdout",
     "output_type": "stream",
     "text": [
      "id                                0\n",
      "hotel                             0\n",
      "is_canceled                       0\n",
      "lead_time                         0\n",
      "stays_in_weekend_nights           0\n",
      "stays_in_week_nights              0\n",
      "adults                            0\n",
      "children                          0\n",
      "babies                            0\n",
      "meal                              0\n",
      "country                           0\n",
      "market_segment                    0\n",
      "distribution_channel              0\n",
      "is_repeated_guest                 0\n",
      "previous_cancellations            0\n",
      "previous_bookings_not_canceled    0\n",
      "reserved_room_type                0\n",
      "assigned_room_type                0\n",
      "booking_changes                   0\n",
      "agent                             0\n",
      "company                           0\n",
      "days_in_waiting_list              0\n",
      "customer_type                     0\n",
      "adr                               0\n",
      "required_car_parking_spaces       0\n",
      "total_of_special_requests         0\n",
      "arrival_date                      0\n",
      "dtype: int64\n"
     ]
    }
   ],
   "source": [
    "print(df.isnull().sum())"
   ]
  },
  {
   "cell_type": "code",
   "execution_count": 11,
   "metadata": {
    "collapsed": false
   },
   "outputs": [
    {
     "name": "stdout",
     "output_type": "stream",
     "text": [
      "2047     1\n",
      "21792    1\n",
      "17698    1\n",
      "19747    1\n",
      "29988    1\n",
      "        ..\n",
      "4823     1\n",
      "27352    1\n",
      "25305    1\n",
      "31450    1\n",
      "2049     1\n",
      "Name: id, Length: 108785, dtype: int64\n",
      "@@@@@######$$$$$%%%%\n",
      "City Hotel      72364\n",
      "Resort Hotel    36421\n",
      "Name: hotel, dtype: int64\n",
      "@@@@@######$$$$$%%%%\n",
      "0    68460\n",
      "1    40325\n",
      "Name: is_canceled, dtype: int64\n",
      "@@@@@######$$$$$%%%%\n",
      "0      5936\n",
      "1      3296\n",
      "2      1939\n",
      "3      1720\n",
      "4      1625\n",
      "       ... \n",
      "532       1\n",
      "450       1\n",
      "370       1\n",
      "400       1\n",
      "709       1\n",
      "Name: lead_time, Length: 464, dtype: int64\n",
      "@@@@@######$$$$$%%%%\n",
      "0     48197\n",
      "2     29599\n",
      "1     28012\n",
      "4      1605\n",
      "3      1047\n",
      "6       149\n",
      "5        72\n",
      "8        57\n",
      "7        19\n",
      "9         9\n",
      "10        7\n",
      "12        5\n",
      "13        2\n",
      "16        2\n",
      "18        1\n",
      "14        1\n",
      "19        1\n",
      "Name: stays_in_weekend_nights, dtype: int64\n",
      "@@@@@######$$$$$%%%%\n",
      "2     31367\n",
      "1     27975\n",
      "3     20341\n",
      "5      9503\n",
      "4      8457\n",
      "0      6971\n",
      "6      1270\n",
      "10      921\n",
      "7       891\n",
      "8       526\n",
      "9       185\n",
      "15       85\n",
      "11       50\n",
      "19       43\n",
      "20       39\n",
      "12       38\n",
      "14       35\n",
      "13       23\n",
      "16       14\n",
      "21       13\n",
      "22        7\n",
      "18        6\n",
      "25        6\n",
      "17        4\n",
      "30        4\n",
      "24        3\n",
      "40        2\n",
      "42        1\n",
      "26        1\n",
      "32        1\n",
      "33        1\n",
      "34        1\n",
      "50        1\n",
      "Name: stays_in_week_nights, dtype: int64\n",
      "@@@@@######$$$$$%%%%\n",
      "2     81464\n",
      "1     21970\n",
      "3      5076\n",
      "0       205\n",
      "4        54\n",
      "26        5\n",
      "27        2\n",
      "20        2\n",
      "5         2\n",
      "55        1\n",
      "50        1\n",
      "40        1\n",
      "10        1\n",
      "6         1\n",
      "Name: adults, dtype: int64\n",
      "@@@@@######$$$$$%%%%\n",
      "0.0     101830\n",
      "1.0       3922\n",
      "2.0       2979\n",
      "3.0         53\n",
      "10.0         1\n",
      "Name: children, dtype: int64\n",
      "@@@@@######$$$$$%%%%\n",
      "0     107951\n",
      "1        818\n",
      "2         14\n",
      "10         1\n",
      "9          1\n",
      "Name: babies, dtype: int64\n",
      "@@@@@######$$$$$%%%%\n",
      "BB    85099\n",
      "HB    12705\n",
      "SC    10238\n",
      "FB      743\n",
      "Name: meal, dtype: int64\n",
      "@@@@@######$$$$$%%%%\n",
      "PRT    45865\n",
      "GBR    10764\n",
      "FRA     9498\n",
      "ESP     7614\n",
      "DEU     6387\n",
      "       ...  \n",
      "CYM        1\n",
      "PLW        1\n",
      "MDG        1\n",
      "DMA        1\n",
      "MMR        1\n",
      "Name: country, Length: 173, dtype: int64\n",
      "@@@@@######$$$$$%%%%\n",
      "Online TA        49545\n",
      "Offline TA/TO    22682\n",
      "Groups           19354\n",
      "Direct           11196\n",
      "Corporate         5079\n",
      "Complementary      697\n",
      "Aviation           230\n",
      "Undefined            2\n",
      "Name: market_segment, dtype: int64\n",
      "@@@@@######$$$$$%%%%\n"
     ]
    },
    {
     "name": "stdout",
     "output_type": "stream",
     "text": [
      "TA/TO        88940\n",
      "Direct       13203\n",
      "Corporate     6449\n",
      "GDS            188\n",
      "Undefined        5\n",
      "Name: distribution_channel, dtype: int64\n",
      "@@@@@######$$$$$%%%%\n",
      "0    105245\n",
      "1      3540\n",
      "Name: is_repeated_guest, dtype: int64\n",
      "@@@@@######$$$$$%%%%\n",
      "0     102366\n",
      "1       6008\n",
      "2        110\n",
      "3         62\n",
      "24        48\n",
      "11        35\n",
      "4         28\n",
      "26        26\n",
      "25        25\n",
      "19        19\n",
      "6         17\n",
      "14        14\n",
      "5         14\n",
      "13        12\n",
      "21         1\n",
      "Name: previous_cancellations, dtype: int64\n",
      "@@@@@######$$$$$%%%%\n",
      "0     105388\n",
      "1       1452\n",
      "2        549\n",
      "3        316\n",
      "4        223\n",
      "       ...  \n",
      "36         1\n",
      "35         1\n",
      "34         1\n",
      "62         1\n",
      "63         1\n",
      "Name: previous_bookings_not_canceled, Length: 68, dtype: int64\n",
      "@@@@@######$$$$$%%%%\n",
      "A    79728\n",
      "D    16771\n",
      "E     5708\n",
      "F     2536\n",
      "G     1796\n",
      "B     1041\n",
      "C      689\n",
      "H      510\n",
      "L        6\n",
      "Name: reserved_room_type, dtype: int64\n",
      "@@@@@######$$$$$%%%%\n",
      "A    68162\n",
      "D    22832\n",
      "E     6967\n",
      "F     3354\n",
      "G     2226\n",
      "C     2068\n",
      "B     2068\n",
      "H      616\n",
      "I      327\n",
      "K      164\n",
      "L        1\n",
      "Name: assigned_room_type, dtype: int64\n",
      "@@@@@######$$$$$%%%%\n",
      "0     92781\n",
      "1     11397\n",
      "2      3285\n",
      "3       783\n",
      "4       317\n",
      "5       104\n",
      "6        55\n",
      "7        24\n",
      "8        12\n",
      "9         8\n",
      "13        4\n",
      "10        3\n",
      "14        3\n",
      "15        3\n",
      "17        2\n",
      "16        2\n",
      "12        1\n",
      "18        1\n",
      "Name: booking_changes, dtype: int64\n",
      "@@@@@######$$$$$%%%%\n",
      "9.0      28036\n",
      "0.0      15530\n",
      "240.0    12282\n",
      "1.0       7187\n",
      "7.0       3257\n",
      "         ...  \n",
      "219.0        1\n",
      "54.0         1\n",
      "247.0        1\n",
      "406.0        1\n",
      "265.0        1\n",
      "Name: agent, Length: 331, dtype: int64\n",
      "@@@@@######$$$$$%%%%\n",
      "0.0      102214\n",
      "40.0        853\n",
      "223.0       784\n",
      "67.0        267\n",
      "45.0        239\n",
      "          ...  \n",
      "35.0          1\n",
      "489.0         1\n",
      "461.0         1\n",
      "64.0          1\n",
      "305.0         1\n",
      "Name: company, Length: 341, dtype: int64\n",
      "@@@@@######$$$$$%%%%\n",
      "0      105101\n",
      "39        227\n",
      "58        164\n",
      "44        141\n",
      "31        127\n",
      "        ...  \n",
      "116         1\n",
      "81          1\n",
      "167         1\n",
      "117         1\n",
      "74          1\n",
      "Name: days_in_waiting_list, Length: 127, dtype: int64\n",
      "@@@@@######$$$$$%%%%\n",
      "Transient          80589\n",
      "Transient-Party    23808\n",
      "Contract            3864\n",
      "Group                524\n",
      "Name: customer_type, dtype: int64\n",
      "@@@@@######$$$$$%%%%\n",
      "62.00     3754\n",
      "75.00     2701\n",
      "65.00     2369\n",
      "90.00     2336\n",
      "80.00     1826\n",
      "          ... \n",
      "108.97       1\n",
      "98.14        1\n",
      "232.50       1\n",
      "86.83        1\n",
      "210.51       1\n",
      "Name: adr, Length: 7949, dtype: int64\n",
      "@@@@@######$$$$$%%%%\n",
      "0    101966\n",
      "1      6789\n",
      "2        25\n",
      "3         3\n",
      "8         2\n",
      "Name: required_car_parking_spaces, dtype: int64\n",
      "@@@@@######$$$$$%%%%\n",
      "0    65912\n",
      "1    29218\n",
      "2    11295\n",
      "3     2076\n",
      "4      251\n",
      "5       33\n",
      "Name: total_of_special_requests, dtype: int64\n",
      "@@@@@######$$$$$%%%%\n"
     ]
    },
    {
     "name": "stdout",
     "output_type": "stream",
     "text": [
      "2015-12-05    448\n",
      "2016-11-07    365\n",
      "2015-10-16    355\n",
      "2016-10-13    344\n",
      "2015-09-18    340\n",
      "             ... \n",
      "2015-12-15     29\n",
      "2015-11-15     28\n",
      "2015-12-07     27\n",
      "2015-11-29     20\n",
      "2015-12-13     19\n",
      "Name: arrival_date, Length: 730, dtype: int64\n",
      "@@@@@######$$$$$%%%%\n"
     ]
    }
   ],
   "source": [
    "##To print unique values in each column\n",
    "for i in df.columns:\n",
    "    print(df[i].value_counts())\n",
    "    print(\"@@@@@######$$$$$%%%%\")"
   ]
  },
  {
   "cell_type": "code",
   "execution_count": 7,
   "metadata": {
    "collapsed": false
   },
   "outputs": [
    {
     "data": {
      "text/plain": [
       "id                                  int64\n",
       "hotel                              object\n",
       "is_canceled                         int64\n",
       "lead_time                           int64\n",
       "stays_in_weekend_nights             int64\n",
       "stays_in_week_nights                int64\n",
       "adults                              int64\n",
       "children                          float64\n",
       "babies                              int64\n",
       "meal                               object\n",
       "country                            object\n",
       "market_segment                     object\n",
       "distribution_channel               object\n",
       "is_repeated_guest                   int64\n",
       "previous_cancellations              int64\n",
       "previous_bookings_not_canceled      int64\n",
       "reserved_room_type                 object\n",
       "assigned_room_type                 object\n",
       "booking_changes                     int64\n",
       "agent                             float64\n",
       "company                           float64\n",
       "days_in_waiting_list                int64\n",
       "customer_type                      object\n",
       "adr                               float64\n",
       "required_car_parking_spaces         int64\n",
       "total_of_special_requests           int64\n",
       "arrival_date                       object\n",
       "dtype: object"
      ]
     },
     "execution_count": 7,
     "metadata": {
     },
     "output_type": "execute_result"
    }
   ],
   "source": [
    "df.dtypes"
   ]
  },
  {
   "cell_type": "code",
   "execution_count": 4,
   "metadata": {
    "collapsed": false
   },
   "outputs": [
    {
     "data": {
      "text/plain": [
       "id                                  int64\n",
       "hotel                              object\n",
       "is_canceled                         int64\n",
       "lead_time                           int64\n",
       "stays_in_weekend_nights             int64\n",
       "stays_in_week_nights                int64\n",
       "adults                              int64\n",
       "children                          float64\n",
       "babies                              int64\n",
       "meal                               object\n",
       "country                            object\n",
       "market_segment                     object\n",
       "distribution_channel               object\n",
       "is_repeated_guest                   int64\n",
       "previous_cancellations              int64\n",
       "previous_bookings_not_canceled      int64\n",
       "reserved_room_type                 object\n",
       "assigned_room_type                 object\n",
       "booking_changes                     int64\n",
       "agent                             float64\n",
       "company                           float64\n",
       "days_in_waiting_list                int64\n",
       "customer_type                      object\n",
       "adr                               float64\n",
       "required_car_parking_spaces         int64\n",
       "total_of_special_requests           int64\n",
       "arrival_date                       object\n",
       "dtype: object"
      ]
     },
     "execution_count": 4,
     "metadata": {
     },
     "output_type": "execute_result"
    }
   ],
   "source": [
    "df.dtypes"
   ]
  },
  {
   "cell_type": "code",
   "execution_count": 9,
   "metadata": {
    "collapsed": false
   },
   "outputs": [
    {
     "data": {
      "text/html": [
       "<div>\n",
       "<style scoped>\n",
       "    .dataframe tbody tr th:only-of-type {\n",
       "        vertical-align: middle;\n",
       "    }\n",
       "\n",
       "    .dataframe tbody tr th {\n",
       "        vertical-align: top;\n",
       "    }\n",
       "\n",
       "    .dataframe thead th {\n",
       "        text-align: right;\n",
       "    }\n",
       "</style>\n",
       "<table border=\"1\" class=\"dataframe\">\n",
       "  <thead>\n",
       "    <tr style=\"text-align: right;\">\n",
       "      <th></th>\n",
       "      <th>id</th>\n",
       "      <th>hotel</th>\n",
       "      <th>is_canceled</th>\n",
       "      <th>lead_time</th>\n",
       "      <th>stays_in_weekend_nights</th>\n",
       "      <th>stays_in_week_nights</th>\n",
       "      <th>adults</th>\n",
       "      <th>children</th>\n",
       "      <th>babies</th>\n",
       "      <th>meal</th>\n",
       "      <th>...</th>\n",
       "      <th>reserved_room_type</th>\n",
       "      <th>assigned_room_type</th>\n",
       "      <th>booking_changes</th>\n",
       "      <th>agent</th>\n",
       "      <th>company</th>\n",
       "      <th>days_in_waiting_list</th>\n",
       "      <th>customer_type</th>\n",
       "      <th>adr</th>\n",
       "      <th>required_car_parking_spaces</th>\n",
       "      <th>total_of_special_requests</th>\n",
       "    </tr>\n",
       "  </thead>\n",
       "  <tbody>\n",
       "    <tr>\n",
       "      <th>0</th>\n",
       "      <td>1</td>\n",
       "      <td>Resort Hotel</td>\n",
       "      <td>0</td>\n",
       "      <td>1</td>\n",
       "      <td>0</td>\n",
       "      <td>1</td>\n",
       "      <td>2</td>\n",
       "      <td>0.0</td>\n",
       "      <td>1</td>\n",
       "      <td>BB</td>\n",
       "      <td>...</td>\n",
       "      <td>A</td>\n",
       "      <td>A</td>\n",
       "      <td>1</td>\n",
       "      <td>250.0</td>\n",
       "      <td>0.0</td>\n",
       "      <td>0</td>\n",
       "      <td>Transient</td>\n",
       "      <td>55.00</td>\n",
       "      <td>1</td>\n",
       "      <td>0</td>\n",
       "    </tr>\n",
       "    <tr>\n",
       "      <th>1</th>\n",
       "      <td>2</td>\n",
       "      <td>Resort Hotel</td>\n",
       "      <td>0</td>\n",
       "      <td>1</td>\n",
       "      <td>0</td>\n",
       "      <td>2</td>\n",
       "      <td>1</td>\n",
       "      <td>0.0</td>\n",
       "      <td>0</td>\n",
       "      <td>BB</td>\n",
       "      <td>...</td>\n",
       "      <td>A</td>\n",
       "      <td>D</td>\n",
       "      <td>0</td>\n",
       "      <td>0.0</td>\n",
       "      <td>0.0</td>\n",
       "      <td>0</td>\n",
       "      <td>Transient</td>\n",
       "      <td>40.00</td>\n",
       "      <td>0</td>\n",
       "      <td>0</td>\n",
       "    </tr>\n",
       "    <tr>\n",
       "      <th>2</th>\n",
       "      <td>3</td>\n",
       "      <td>City Hotel</td>\n",
       "      <td>1</td>\n",
       "      <td>56</td>\n",
       "      <td>0</td>\n",
       "      <td>3</td>\n",
       "      <td>2</td>\n",
       "      <td>0.0</td>\n",
       "      <td>0</td>\n",
       "      <td>BB</td>\n",
       "      <td>...</td>\n",
       "      <td>A</td>\n",
       "      <td>A</td>\n",
       "      <td>0</td>\n",
       "      <td>29.0</td>\n",
       "      <td>0.0</td>\n",
       "      <td>0</td>\n",
       "      <td>Transient</td>\n",
       "      <td>60.00</td>\n",
       "      <td>0</td>\n",
       "      <td>0</td>\n",
       "    </tr>\n",
       "    <tr>\n",
       "      <th>3</th>\n",
       "      <td>4</td>\n",
       "      <td>City Hotel</td>\n",
       "      <td>0</td>\n",
       "      <td>213</td>\n",
       "      <td>2</td>\n",
       "      <td>5</td>\n",
       "      <td>2</td>\n",
       "      <td>0.0</td>\n",
       "      <td>0</td>\n",
       "      <td>BB</td>\n",
       "      <td>...</td>\n",
       "      <td>A</td>\n",
       "      <td>A</td>\n",
       "      <td>0</td>\n",
       "      <td>9.0</td>\n",
       "      <td>0.0</td>\n",
       "      <td>0</td>\n",
       "      <td>Transient</td>\n",
       "      <td>102.85</td>\n",
       "      <td>0</td>\n",
       "      <td>1</td>\n",
       "    </tr>\n",
       "    <tr>\n",
       "      <th>4</th>\n",
       "      <td>5</td>\n",
       "      <td>Resort Hotel</td>\n",
       "      <td>0</td>\n",
       "      <td>328</td>\n",
       "      <td>4</td>\n",
       "      <td>10</td>\n",
       "      <td>2</td>\n",
       "      <td>0.0</td>\n",
       "      <td>0</td>\n",
       "      <td>BB</td>\n",
       "      <td>...</td>\n",
       "      <td>D</td>\n",
       "      <td>D</td>\n",
       "      <td>0</td>\n",
       "      <td>243.0</td>\n",
       "      <td>0.0</td>\n",
       "      <td>0</td>\n",
       "      <td>Contract</td>\n",
       "      <td>121.50</td>\n",
       "      <td>0</td>\n",
       "      <td>2</td>\n",
       "    </tr>\n",
       "    <tr>\n",
       "      <th>...</th>\n",
       "      <td>...</td>\n",
       "      <td>...</td>\n",
       "      <td>...</td>\n",
       "      <td>...</td>\n",
       "      <td>...</td>\n",
       "      <td>...</td>\n",
       "      <td>...</td>\n",
       "      <td>...</td>\n",
       "      <td>...</td>\n",
       "      <td>...</td>\n",
       "      <td>...</td>\n",
       "      <td>...</td>\n",
       "      <td>...</td>\n",
       "      <td>...</td>\n",
       "      <td>...</td>\n",
       "      <td>...</td>\n",
       "      <td>...</td>\n",
       "      <td>...</td>\n",
       "      <td>...</td>\n",
       "      <td>...</td>\n",
       "      <td>...</td>\n",
       "    </tr>\n",
       "    <tr>\n",
       "      <th>108780</th>\n",
       "      <td>108781</td>\n",
       "      <td>City Hotel</td>\n",
       "      <td>1</td>\n",
       "      <td>37</td>\n",
       "      <td>0</td>\n",
       "      <td>3</td>\n",
       "      <td>2</td>\n",
       "      <td>0.0</td>\n",
       "      <td>0</td>\n",
       "      <td>BB</td>\n",
       "      <td>...</td>\n",
       "      <td>A</td>\n",
       "      <td>A</td>\n",
       "      <td>0</td>\n",
       "      <td>56.0</td>\n",
       "      <td>0.0</td>\n",
       "      <td>0</td>\n",
       "      <td>Transient-Party</td>\n",
       "      <td>105.00</td>\n",
       "      <td>0</td>\n",
       "      <td>0</td>\n",
       "    </tr>\n",
       "    <tr>\n",
       "      <th>108781</th>\n",
       "      <td>108782</td>\n",
       "      <td>City Hotel</td>\n",
       "      <td>0</td>\n",
       "      <td>13</td>\n",
       "      <td>1</td>\n",
       "      <td>2</td>\n",
       "      <td>2</td>\n",
       "      <td>0.0</td>\n",
       "      <td>0</td>\n",
       "      <td>BB</td>\n",
       "      <td>...</td>\n",
       "      <td>A</td>\n",
       "      <td>A</td>\n",
       "      <td>0</td>\n",
       "      <td>28.0</td>\n",
       "      <td>0.0</td>\n",
       "      <td>0</td>\n",
       "      <td>Transient</td>\n",
       "      <td>82.00</td>\n",
       "      <td>0</td>\n",
       "      <td>0</td>\n",
       "    </tr>\n",
       "    <tr>\n",
       "      <th>108782</th>\n",
       "      <td>108783</td>\n",
       "      <td>City Hotel</td>\n",
       "      <td>0</td>\n",
       "      <td>124</td>\n",
       "      <td>0</td>\n",
       "      <td>3</td>\n",
       "      <td>2</td>\n",
       "      <td>0.0</td>\n",
       "      <td>0</td>\n",
       "      <td>BB</td>\n",
       "      <td>...</td>\n",
       "      <td>A</td>\n",
       "      <td>A</td>\n",
       "      <td>2</td>\n",
       "      <td>9.0</td>\n",
       "      <td>0.0</td>\n",
       "      <td>0</td>\n",
       "      <td>Transient</td>\n",
       "      <td>126.00</td>\n",
       "      <td>0</td>\n",
       "      <td>1</td>\n",
       "    </tr>\n",
       "    <tr>\n",
       "      <th>108783</th>\n",
       "      <td>108784</td>\n",
       "      <td>Resort Hotel</td>\n",
       "      <td>1</td>\n",
       "      <td>130</td>\n",
       "      <td>2</td>\n",
       "      <td>5</td>\n",
       "      <td>2</td>\n",
       "      <td>0.0</td>\n",
       "      <td>0</td>\n",
       "      <td>BB</td>\n",
       "      <td>...</td>\n",
       "      <td>A</td>\n",
       "      <td>A</td>\n",
       "      <td>0</td>\n",
       "      <td>240.0</td>\n",
       "      <td>0.0</td>\n",
       "      <td>0</td>\n",
       "      <td>Transient</td>\n",
       "      <td>120.60</td>\n",
       "      <td>0</td>\n",
       "      <td>2</td>\n",
       "    </tr>\n",
       "    <tr>\n",
       "      <th>108784</th>\n",
       "      <td>108785</td>\n",
       "      <td>Resort Hotel</td>\n",
       "      <td>0</td>\n",
       "      <td>174</td>\n",
       "      <td>2</td>\n",
       "      <td>5</td>\n",
       "      <td>2</td>\n",
       "      <td>0.0</td>\n",
       "      <td>0</td>\n",
       "      <td>HB</td>\n",
       "      <td>...</td>\n",
       "      <td>A</td>\n",
       "      <td>A</td>\n",
       "      <td>0</td>\n",
       "      <td>243.0</td>\n",
       "      <td>0.0</td>\n",
       "      <td>0</td>\n",
       "      <td>Contract</td>\n",
       "      <td>58.23</td>\n",
       "      <td>0</td>\n",
       "      <td>0</td>\n",
       "    </tr>\n",
       "  </tbody>\n",
       "</table>\n",
       "<p>108785 rows × 26 columns</p>\n",
       "</div>"
      ],
      "text/plain": [
       "            id         hotel  is_canceled  lead_time  stays_in_weekend_nights  \\\n",
       "0            1  Resort Hotel            0          1                        0   \n",
       "1            2  Resort Hotel            0          1                        0   \n",
       "2            3    City Hotel            1         56                        0   \n",
       "3            4    City Hotel            0        213                        2   \n",
       "4            5  Resort Hotel            0        328                        4   \n",
       "...        ...           ...          ...        ...                      ...   \n",
       "108780  108781    City Hotel            1         37                        0   \n",
       "108781  108782    City Hotel            0         13                        1   \n",
       "108782  108783    City Hotel            0        124                        0   \n",
       "108783  108784  Resort Hotel            1        130                        2   \n",
       "108784  108785  Resort Hotel            0        174                        2   \n",
       "\n",
       "        stays_in_week_nights  adults  children  babies meal  ...  \\\n",
       "0                          1       2       0.0       1   BB  ...   \n",
       "1                          2       1       0.0       0   BB  ...   \n",
       "2                          3       2       0.0       0   BB  ...   \n",
       "3                          5       2       0.0       0   BB  ...   \n",
       "4                         10       2       0.0       0   BB  ...   \n",
       "...                      ...     ...       ...     ...  ...  ...   \n",
       "108780                     3       2       0.0       0   BB  ...   \n",
       "108781                     2       2       0.0       0   BB  ...   \n",
       "108782                     3       2       0.0       0   BB  ...   \n",
       "108783                     5       2       0.0       0   BB  ...   \n",
       "108784                     5       2       0.0       0   HB  ...   \n",
       "\n",
       "       reserved_room_type assigned_room_type booking_changes  agent  company  \\\n",
       "0                       A                  A               1  250.0      0.0   \n",
       "1                       A                  D               0    0.0      0.0   \n",
       "2                       A                  A               0   29.0      0.0   \n",
       "3                       A                  A               0    9.0      0.0   \n",
       "4                       D                  D               0  243.0      0.0   \n",
       "...                   ...                ...             ...    ...      ...   \n",
       "108780                  A                  A               0   56.0      0.0   \n",
       "108781                  A                  A               0   28.0      0.0   \n",
       "108782                  A                  A               2    9.0      0.0   \n",
       "108783                  A                  A               0  240.0      0.0   \n",
       "108784                  A                  A               0  243.0      0.0   \n",
       "\n",
       "        days_in_waiting_list    customer_type     adr  \\\n",
       "0                          0        Transient   55.00   \n",
       "1                          0        Transient   40.00   \n",
       "2                          0        Transient   60.00   \n",
       "3                          0        Transient  102.85   \n",
       "4                          0         Contract  121.50   \n",
       "...                      ...              ...     ...   \n",
       "108780                     0  Transient-Party  105.00   \n",
       "108781                     0        Transient   82.00   \n",
       "108782                     0        Transient  126.00   \n",
       "108783                     0        Transient  120.60   \n",
       "108784                     0         Contract   58.23   \n",
       "\n",
       "        required_car_parking_spaces  total_of_special_requests  \n",
       "0                                 1                          0  \n",
       "1                                 0                          0  \n",
       "2                                 0                          0  \n",
       "3                                 0                          1  \n",
       "4                                 0                          2  \n",
       "...                             ...                        ...  \n",
       "108780                            0                          0  \n",
       "108781                            0                          0  \n",
       "108782                            0                          1  \n",
       "108783                            0                          2  \n",
       "108784                            0                          0  \n",
       "\n",
       "[108785 rows x 26 columns]"
      ]
     },
     "execution_count": 9,
     "metadata": {
     },
     "output_type": "execute_result"
    }
   ],
   "source": [
    "df=df.drop(['arrival_date'], axis=1)\n",
    "df"
   ]
  },
  {
   "cell_type": "code",
   "execution_count": 10,
   "metadata": {
    "collapsed": false
   },
   "outputs": [
   ],
   "source": [
    "from sklearn import preprocessing\n",
    "le=preprocessing.LabelEncoder()\n",
    "\n",
    "for i in df.columns:\n",
    "    if df[i].dtypes ==\"object\":\n",
    "        le.fit(df[i])\n",
    "        df[i]=le.transform(df[i])"
   ]
  },
  {
   "cell_type": "code",
   "execution_count": 11,
   "metadata": {
    "collapsed": false
   },
   "outputs": [
    {
     "data": {
      "text/plain": [
       "id                                  int64\n",
       "hotel                               int64\n",
       "is_canceled                         int64\n",
       "lead_time                           int64\n",
       "stays_in_weekend_nights             int64\n",
       "stays_in_week_nights                int64\n",
       "adults                              int64\n",
       "children                          float64\n",
       "babies                              int64\n",
       "meal                                int64\n",
       "country                             int64\n",
       "market_segment                      int64\n",
       "distribution_channel                int64\n",
       "is_repeated_guest                   int64\n",
       "previous_cancellations              int64\n",
       "previous_bookings_not_canceled      int64\n",
       "reserved_room_type                  int64\n",
       "assigned_room_type                  int64\n",
       "booking_changes                     int64\n",
       "agent                             float64\n",
       "company                           float64\n",
       "days_in_waiting_list                int64\n",
       "customer_type                       int64\n",
       "adr                               float64\n",
       "required_car_parking_spaces         int64\n",
       "total_of_special_requests           int64\n",
       "dtype: object"
      ]
     },
     "execution_count": 11,
     "metadata": {
     },
     "output_type": "execute_result"
    }
   ],
   "source": [
    "df.dtypes"
   ]
  },
  {
   "cell_type": "code",
   "execution_count": 13,
   "metadata": {
    "collapsed": false
   },
   "outputs": [
   ],
   "source": [
    "df=df.drop(['id'], axis=1)"
   ]
  },
  {
   "cell_type": "code",
   "execution_count": 14,
   "metadata": {
    "collapsed": false
   },
   "outputs": [
   ],
   "source": [
    "Y=df[\"is_canceled\"]\n",
    "X=df.drop([\"is_canceled\"],axis=1)"
   ]
  },
  {
   "cell_type": "code",
   "execution_count": 15,
   "metadata": {
    "collapsed": false
   },
   "outputs": [
    {
     "name": "stdout",
     "output_type": "stream",
     "text": [
      "0    0\n",
      "1    0\n",
      "2    1\n",
      "3    0\n",
      "4    0\n",
      "Name: is_canceled, dtype: int64\n",
      "   hotel  lead_time  stays_in_weekend_nights  stays_in_week_nights  adults  \\\n",
      "0      1          1                        0                     1       2   \n",
      "1      1          1                        0                     2       1   \n",
      "2      0         56                        0                     3       2   \n",
      "3      0        213                        2                     5       2   \n",
      "4      1        328                        4                    10       2   \n",
      "\n",
      "   children  babies  meal  country  market_segment  ...  reserved_room_type  \\\n",
      "0       0.0       1     0      131               3  ...                   0   \n",
      "1       0.0       0     0      131               3  ...                   0   \n",
      "2       0.0       0     0      131               4  ...                   0   \n",
      "3       0.0       0     0       56               6  ...                   0   \n",
      "4       0.0       0     0       56               5  ...                   3   \n",
      "\n",
      "   assigned_room_type  booking_changes  agent  company  days_in_waiting_list  \\\n",
      "0                   0                1  250.0      0.0                     0   \n",
      "1                   3                0    0.0      0.0                     0   \n",
      "2                   0                0   29.0      0.0                     0   \n",
      "3                   0                0    9.0      0.0                     0   \n",
      "4                   3                0  243.0      0.0                     0   \n",
      "\n",
      "   customer_type     adr  required_car_parking_spaces  \\\n",
      "0              2   55.00                            1   \n",
      "1              2   40.00                            0   \n",
      "2              2   60.00                            0   \n",
      "3              2  102.85                            0   \n",
      "4              0  121.50                            0   \n",
      "\n",
      "   total_of_special_requests  \n",
      "0                          0  \n",
      "1                          0  \n",
      "2                          0  \n",
      "3                          1  \n",
      "4                          2  \n",
      "\n",
      "[5 rows x 24 columns]\n"
     ]
    }
   ],
   "source": [
    "print(Y.head())\n",
    "print(X.head())"
   ]
  },
  {
   "cell_type": "code",
   "execution_count": 12,
   "metadata": {
    "collapsed": false
   },
   "outputs": [
   ],
   "source": [
    "\n",
    "def timer(start_time=None):\n",
    "    if not start_time:\n",
    "        start_time = datetime.now()\n",
    "        return start_time\n",
    "    elif start_time:\n",
    "        thour, temp_sec = divmod((datetime.now() - start_time).total_seconds(), 3600)\n",
    "        tmin, tsec = divmod(temp_sec, 60)\n",
    "        print('\\n Time taken: %i hours %i minutes and %s seconds.' % (thour, tmin, round(tsec, 2)))"
   ]
  },
  {
   "cell_type": "code",
   "execution_count": 16,
   "metadata": {
    "collapsed": false
   },
   "outputs": [
    {
     "name": "stdout",
     "output_type": "stream",
     "text": [
      "Fitting 5 folds for each of 5 candidates, totalling 25 fits\n",
      "[CV] min_child_weight=5, max_depth=4, learning_rate=0.1, gamma=0.2, colsample_bytree=0.5 \n"
     ]
    },
    {
     "name": "stderr",
     "output_type": "stream",
     "text": [
      "[Parallel(n_jobs=-1)]: Using backend SequentialBackend with 1 concurrent workers.\n"
     ]
    },
    {
     "name": "stdout",
     "output_type": "stream",
     "text": [
      "[CV]  min_child_weight=5, max_depth=4, learning_rate=0.1, gamma=0.2, colsample_bytree=0.5, score=0.931, total=   8.1s\n",
      "[CV] min_child_weight=5, max_depth=4, learning_rate=0.1, gamma=0.2, colsample_bytree=0.5 \n"
     ]
    },
    {
     "name": "stderr",
     "output_type": "stream",
     "text": [
      "[Parallel(n_jobs=-1)]: Done   1 out of   1 | elapsed:    8.1s remaining:    0.0s\n"
     ]
    },
    {
     "name": "stdout",
     "output_type": "stream",
     "text": [
      "[CV]  min_child_weight=5, max_depth=4, learning_rate=0.1, gamma=0.2, colsample_bytree=0.5, score=0.931, total=   7.1s\n",
      "[CV] min_child_weight=5, max_depth=4, learning_rate=0.1, gamma=0.2, colsample_bytree=0.5 \n"
     ]
    },
    {
     "name": "stderr",
     "output_type": "stream",
     "text": [
      "[Parallel(n_jobs=-1)]: Done   2 out of   2 | elapsed:   15.2s remaining:    0.0s\n"
     ]
    },
    {
     "name": "stdout",
     "output_type": "stream",
     "text": [
      "[CV]  min_child_weight=5, max_depth=4, learning_rate=0.1, gamma=0.2, colsample_bytree=0.5, score=0.932, total=   7.6s\n",
      "[CV] min_child_weight=5, max_depth=4, learning_rate=0.1, gamma=0.2, colsample_bytree=0.5 \n"
     ]
    },
    {
     "name": "stdout",
     "output_type": "stream",
     "text": [
      "[CV]  min_child_weight=5, max_depth=4, learning_rate=0.1, gamma=0.2, colsample_bytree=0.5, score=0.931, total=   8.2s\n",
      "[CV] min_child_weight=5, max_depth=4, learning_rate=0.1, gamma=0.2, colsample_bytree=0.5 \n"
     ]
    },
    {
     "name": "stdout",
     "output_type": "stream",
     "text": [
      "[CV]  min_child_weight=5, max_depth=4, learning_rate=0.1, gamma=0.2, colsample_bytree=0.5, score=0.929, total=   8.0s\n",
      "[CV] min_child_weight=1, max_depth=10, learning_rate=0.15, gamma=0.3, colsample_bytree=0.3 \n"
     ]
    },
    {
     "name": "stdout",
     "output_type": "stream",
     "text": [
      "[CV]  min_child_weight=1, max_depth=10, learning_rate=0.15, gamma=0.3, colsample_bytree=0.3, score=0.954, total=  16.3s\n",
      "[CV] min_child_weight=1, max_depth=10, learning_rate=0.15, gamma=0.3, colsample_bytree=0.3 \n"
     ]
    },
    {
     "name": "stdout",
     "output_type": "stream",
     "text": [
      "[CV]  min_child_weight=1, max_depth=10, learning_rate=0.15, gamma=0.3, colsample_bytree=0.3, score=0.955, total=  16.2s\n",
      "[CV] min_child_weight=1, max_depth=10, learning_rate=0.15, gamma=0.3, colsample_bytree=0.3 \n"
     ]
    },
    {
     "name": "stdout",
     "output_type": "stream",
     "text": [
      "[CV]  min_child_weight=1, max_depth=10, learning_rate=0.15, gamma=0.3, colsample_bytree=0.3, score=0.955, total=  17.6s\n",
      "[CV] min_child_weight=1, max_depth=10, learning_rate=0.15, gamma=0.3, colsample_bytree=0.3 \n"
     ]
    },
    {
     "name": "stdout",
     "output_type": "stream",
     "text": [
      "[CV]  min_child_weight=1, max_depth=10, learning_rate=0.15, gamma=0.3, colsample_bytree=0.3, score=0.954, total=  14.9s\n",
      "[CV] min_child_weight=1, max_depth=10, learning_rate=0.15, gamma=0.3, colsample_bytree=0.3 \n"
     ]
    },
    {
     "name": "stdout",
     "output_type": "stream",
     "text": [
      "[CV]  min_child_weight=1, max_depth=10, learning_rate=0.15, gamma=0.3, colsample_bytree=0.3, score=0.954, total=  14.9s\n",
      "[CV] min_child_weight=5, max_depth=10, learning_rate=0.1, gamma=0.2, colsample_bytree=0.3 \n"
     ]
    },
    {
     "name": "stdout",
     "output_type": "stream",
     "text": [
      "[CV]  min_child_weight=5, max_depth=10, learning_rate=0.1, gamma=0.2, colsample_bytree=0.3, score=0.950, total=  14.8s\n",
      "[CV] min_child_weight=5, max_depth=10, learning_rate=0.1, gamma=0.2, colsample_bytree=0.3 \n"
     ]
    },
    {
     "name": "stdout",
     "output_type": "stream",
     "text": [
      "[CV]  min_child_weight=5, max_depth=10, learning_rate=0.1, gamma=0.2, colsample_bytree=0.3, score=0.950, total=  15.2s\n",
      "[CV] min_child_weight=5, max_depth=10, learning_rate=0.1, gamma=0.2, colsample_bytree=0.3 \n"
     ]
    },
    {
     "name": "stdout",
     "output_type": "stream",
     "text": [
      "[CV]  min_child_weight=5, max_depth=10, learning_rate=0.1, gamma=0.2, colsample_bytree=0.3, score=0.950, total=  14.9s\n",
      "[CV] min_child_weight=5, max_depth=10, learning_rate=0.1, gamma=0.2, colsample_bytree=0.3 \n"
     ]
    },
    {
     "name": "stdout",
     "output_type": "stream",
     "text": [
      "[CV]  min_child_weight=5, max_depth=10, learning_rate=0.1, gamma=0.2, colsample_bytree=0.3, score=0.949, total=  15.7s\n",
      "[CV] min_child_weight=5, max_depth=10, learning_rate=0.1, gamma=0.2, colsample_bytree=0.3 \n"
     ]
    },
    {
     "name": "stdout",
     "output_type": "stream",
     "text": [
      "[CV]  min_child_weight=5, max_depth=10, learning_rate=0.1, gamma=0.2, colsample_bytree=0.3, score=0.950, total=  15.3s\n",
      "[CV] min_child_weight=1, max_depth=3, learning_rate=0.1, gamma=0.1, colsample_bytree=0.4 \n"
     ]
    },
    {
     "name": "stdout",
     "output_type": "stream",
     "text": [
      "[CV]  min_child_weight=1, max_depth=3, learning_rate=0.1, gamma=0.1, colsample_bytree=0.4, score=0.920, total=   5.6s\n",
      "[CV] min_child_weight=1, max_depth=3, learning_rate=0.1, gamma=0.1, colsample_bytree=0.4 \n"
     ]
    },
    {
     "name": "stdout",
     "output_type": "stream",
     "text": [
      "[CV]  min_child_weight=1, max_depth=3, learning_rate=0.1, gamma=0.1, colsample_bytree=0.4, score=0.920, total=   5.3s\n",
      "[CV] min_child_weight=1, max_depth=3, learning_rate=0.1, gamma=0.1, colsample_bytree=0.4 \n"
     ]
    },
    {
     "name": "stdout",
     "output_type": "stream",
     "text": [
      "[CV]  min_child_weight=1, max_depth=3, learning_rate=0.1, gamma=0.1, colsample_bytree=0.4, score=0.921, total=   5.7s\n",
      "[CV] min_child_weight=1, max_depth=3, learning_rate=0.1, gamma=0.1, colsample_bytree=0.4 \n"
     ]
    },
    {
     "name": "stdout",
     "output_type": "stream",
     "text": [
      "[CV]  min_child_weight=1, max_depth=3, learning_rate=0.1, gamma=0.1, colsample_bytree=0.4, score=0.921, total=   5.4s\n",
      "[CV] min_child_weight=1, max_depth=3, learning_rate=0.1, gamma=0.1, colsample_bytree=0.4 \n"
     ]
    },
    {
     "name": "stdout",
     "output_type": "stream",
     "text": [
      "[CV]  min_child_weight=1, max_depth=3, learning_rate=0.1, gamma=0.1, colsample_bytree=0.4, score=0.919, total=   5.4s\n",
      "[CV] min_child_weight=7, max_depth=5, learning_rate=0.3, gamma=0.2, colsample_bytree=0.5 \n"
     ]
    },
    {
     "name": "stdout",
     "output_type": "stream",
     "text": [
      "[CV]  min_child_weight=7, max_depth=5, learning_rate=0.3, gamma=0.2, colsample_bytree=0.5, score=0.946, total=   8.7s\n",
      "[CV] min_child_weight=7, max_depth=5, learning_rate=0.3, gamma=0.2, colsample_bytree=0.5 \n"
     ]
    },
    {
     "name": "stdout",
     "output_type": "stream",
     "text": [
      "[CV]  min_child_weight=7, max_depth=5, learning_rate=0.3, gamma=0.2, colsample_bytree=0.5, score=0.947, total=   8.3s\n",
      "[CV] min_child_weight=7, max_depth=5, learning_rate=0.3, gamma=0.2, colsample_bytree=0.5 \n"
     ]
    },
    {
     "name": "stdout",
     "output_type": "stream",
     "text": [
      "[CV]  min_child_weight=7, max_depth=5, learning_rate=0.3, gamma=0.2, colsample_bytree=0.5, score=0.948, total=   8.8s\n",
      "[CV] min_child_weight=7, max_depth=5, learning_rate=0.3, gamma=0.2, colsample_bytree=0.5 \n"
     ]
    },
    {
     "name": "stdout",
     "output_type": "stream",
     "text": [
      "[CV]  min_child_weight=7, max_depth=5, learning_rate=0.3, gamma=0.2, colsample_bytree=0.5, score=0.947, total=   8.5s\n",
      "[CV] min_child_weight=7, max_depth=5, learning_rate=0.3, gamma=0.2, colsample_bytree=0.5 \n"
     ]
    },
    {
     "name": "stdout",
     "output_type": "stream",
     "text": [
      "[CV]  min_child_weight=7, max_depth=5, learning_rate=0.3, gamma=0.2, colsample_bytree=0.5, score=0.947, total=   8.9s\n"
     ]
    },
    {
     "name": "stderr",
     "output_type": "stream",
     "text": [
      "[Parallel(n_jobs=-1)]: Done  25 out of  25 | elapsed:  4.4min finished\n"
     ]
    },
    {
     "name": "stdout",
     "output_type": "stream",
     "text": [
      "\n",
      " Time taken: 0 hours 4 minutes and 45.15 seconds.\n"
     ]
    }
   ],
   "source": [
    "###Applying XGBOOST on data frame\n",
    "\n",
    "params={\n",
    " \"learning_rate\"    : [0.05, 0.10, 0.15, 0.20, 0.25, 0.30 ] ,\n",
    " \"max_depth\"        : [ 3, 4, 5, 6, 8, 10, 12, 15],\n",
    " \"min_child_weight\" : [ 1, 3, 5, 7 ],\n",
    " \"gamma\"            : [ 0.0, 0.1, 0.2 , 0.3, 0.4 ],\n",
    " \"colsample_bytree\" : [ 0.3, 0.4, 0.5 , 0.7 ]\n",
    "    \n",
    "}\n",
    "from sklearn.model_selection import RandomizedSearchCV, GridSearchCV\n",
    "import xgboost\n",
    "classifier=xgboost.XGBClassifier()\n",
    "random_search=RandomizedSearchCV(classifier,param_distributions=params,n_iter=5,scoring='roc_auc',n_jobs=-1,cv=5,verbose=3)\n",
    "from datetime import datetime\n",
    "# Here we go\n",
    "start_time = timer(None) # timing starts from this point for \"start_time\" variable\n",
    "random_search.fit(X,Y)\n",
    "timer(start_time) # timing ends here for \"start_time\" variable"
   ]
  },
  {
   "cell_type": "code",
   "execution_count": 17,
   "metadata": {
    "collapsed": false
   },
   "outputs": [
    {
     "data": {
      "text/plain": [
       "XGBClassifier(colsample_bytree=0.3, gamma=0.3, learning_rate=0.15, max_depth=10)"
      ]
     },
     "execution_count": 17,
     "metadata": {
     },
     "output_type": "execute_result"
    }
   ],
   "source": [
    "random_search.best_estimator_"
   ]
  },
  {
   "cell_type": "code",
   "execution_count": 18,
   "metadata": {
    "collapsed": false
   },
   "outputs": [
    {
     "data": {
      "text/plain": [
       "{'min_child_weight': 1,\n",
       " 'max_depth': 10,\n",
       " 'learning_rate': 0.15,\n",
       " 'gamma': 0.3,\n",
       " 'colsample_bytree': 0.3}"
      ]
     },
     "execution_count": 18,
     "metadata": {
     },
     "output_type": "execute_result"
    }
   ],
   "source": [
    "random_search.best_params_"
   ]
  },
  {
   "cell_type": "code",
   "execution_count": 19,
   "metadata": {
    "collapsed": false
   },
   "outputs": [
   ],
   "source": [
    "classifier=xgboost.XGBClassifier(base_score=0.5, booster='gbtree', colsample_bylevel=1,\n",
    "       colsample_bytree=0.3, gamma=0.3, learning_rate=0.15,\n",
    "       max_delta_step=0, max_depth=10, min_child_weight=1, missing=None,\n",
    "       n_estimators=100, n_jobs=1, nthread=None,\n",
    "       objective='binary:logistic', random_state=0, reg_alpha=0,\n",
    "       reg_lambda=1, scale_pos_weight=1, seed=None, silent=True,\n",
    "       subsample=1)"
   ]
  },
  {
   "cell_type": "code",
   "execution_count": 20,
   "metadata": {
    "collapsed": false
   },
   "outputs": [
   ],
   "source": [
    "from sklearn.model_selection import train_test_split\n",
    "seed = 7\n",
    "test_size = 0.33\n",
    "X_train, X_test, y_train, y_test = train_test_split(X, Y, test_size=test_size, random_state=seed)"
   ]
  },
  {
   "cell_type": "code",
   "execution_count": 22,
   "metadata": {
    "collapsed": false
   },
   "outputs": [
    {
     "name": "stdout",
     "output_type": "stream",
     "text": [
      "Accuracy: 88.71%\n"
     ]
    }
   ],
   "source": [
    "classifier.fit(X_train, y_train)\n",
    "from sklearn.metrics import accuracy_score\n",
    "# make predictions for test data\n",
    "y_pred = classifier.predict(X_test)\n",
    "predictions = [round(value) for value in y_pred]\n",
    "# evaluate predictions\n",
    "accuracy = accuracy_score(y_test, predictions)\n",
    "print(\"Accuracy: %.2f%%\" % (accuracy * 100.0))"
   ]
  },
  {
   "cell_type": "code",
   "execution_count": 25,
   "metadata": {
    "collapsed": false
   },
   "outputs": [
   ],
   "source": [
    "tst=pd.read_csv(\"test.csv\")"
   ]
  },
  {
   "cell_type": "code",
   "execution_count": 26,
   "metadata": {
    "collapsed": false
   },
   "outputs": [
    {
     "data": {
      "text/html": [
       "<div>\n",
       "<style scoped>\n",
       "    .dataframe tbody tr th:only-of-type {\n",
       "        vertical-align: middle;\n",
       "    }\n",
       "\n",
       "    .dataframe tbody tr th {\n",
       "        vertical-align: top;\n",
       "    }\n",
       "\n",
       "    .dataframe thead th {\n",
       "        text-align: right;\n",
       "    }\n",
       "</style>\n",
       "<table border=\"1\" class=\"dataframe\">\n",
       "  <thead>\n",
       "    <tr style=\"text-align: right;\">\n",
       "      <th></th>\n",
       "      <th>id</th>\n",
       "      <th>hotel</th>\n",
       "      <th>lead_time</th>\n",
       "      <th>stays_in_weekend_nights</th>\n",
       "      <th>stays_in_week_nights</th>\n",
       "      <th>adults</th>\n",
       "      <th>children</th>\n",
       "      <th>babies</th>\n",
       "      <th>meal</th>\n",
       "      <th>country</th>\n",
       "      <th>...</th>\n",
       "      <th>assigned_room_type</th>\n",
       "      <th>booking_changes</th>\n",
       "      <th>agent</th>\n",
       "      <th>company</th>\n",
       "      <th>days_in_waiting_list</th>\n",
       "      <th>customer_type</th>\n",
       "      <th>adr</th>\n",
       "      <th>required_car_parking_spaces</th>\n",
       "      <th>total_of_special_requests</th>\n",
       "      <th>arrival_date</th>\n",
       "    </tr>\n",
       "  </thead>\n",
       "  <tbody>\n",
       "    <tr>\n",
       "      <th>0</th>\n",
       "      <td>108786</td>\n",
       "      <td>City Hotel</td>\n",
       "      <td>292</td>\n",
       "      <td>0</td>\n",
       "      <td>2</td>\n",
       "      <td>2</td>\n",
       "      <td>0.0</td>\n",
       "      <td>0</td>\n",
       "      <td>SC</td>\n",
       "      <td>DEU</td>\n",
       "      <td>...</td>\n",
       "      <td>A</td>\n",
       "      <td>0</td>\n",
       "      <td>9.0</td>\n",
       "      <td>0.0</td>\n",
       "      <td>0</td>\n",
       "      <td>Transient</td>\n",
       "      <td>89.10</td>\n",
       "      <td>0</td>\n",
       "      <td>4</td>\n",
       "      <td>2017-08-02</td>\n",
       "    </tr>\n",
       "    <tr>\n",
       "      <th>1</th>\n",
       "      <td>108787</td>\n",
       "      <td>City Hotel</td>\n",
       "      <td>20</td>\n",
       "      <td>1</td>\n",
       "      <td>2</td>\n",
       "      <td>2</td>\n",
       "      <td>0.0</td>\n",
       "      <td>0</td>\n",
       "      <td>SC</td>\n",
       "      <td>NLD</td>\n",
       "      <td>...</td>\n",
       "      <td>A</td>\n",
       "      <td>0</td>\n",
       "      <td>9.0</td>\n",
       "      <td>0.0</td>\n",
       "      <td>0</td>\n",
       "      <td>Transient</td>\n",
       "      <td>140.00</td>\n",
       "      <td>0</td>\n",
       "      <td>1</td>\n",
       "      <td>2017-07-07</td>\n",
       "    </tr>\n",
       "    <tr>\n",
       "      <th>2</th>\n",
       "      <td>108788</td>\n",
       "      <td>Resort Hotel</td>\n",
       "      <td>192</td>\n",
       "      <td>2</td>\n",
       "      <td>0</td>\n",
       "      <td>2</td>\n",
       "      <td>0.0</td>\n",
       "      <td>0</td>\n",
       "      <td>BB</td>\n",
       "      <td>BEL</td>\n",
       "      <td>...</td>\n",
       "      <td>E</td>\n",
       "      <td>0</td>\n",
       "      <td>0.0</td>\n",
       "      <td>0.0</td>\n",
       "      <td>0</td>\n",
       "      <td>Transient</td>\n",
       "      <td>167.52</td>\n",
       "      <td>1</td>\n",
       "      <td>2</td>\n",
       "      <td>2017-07-23</td>\n",
       "    </tr>\n",
       "    <tr>\n",
       "      <th>3</th>\n",
       "      <td>108789</td>\n",
       "      <td>City Hotel</td>\n",
       "      <td>94</td>\n",
       "      <td>0</td>\n",
       "      <td>2</td>\n",
       "      <td>2</td>\n",
       "      <td>0.0</td>\n",
       "      <td>0</td>\n",
       "      <td>SC</td>\n",
       "      <td>CHN</td>\n",
       "      <td>...</td>\n",
       "      <td>A</td>\n",
       "      <td>0</td>\n",
       "      <td>9.0</td>\n",
       "      <td>0.0</td>\n",
       "      <td>0</td>\n",
       "      <td>Transient</td>\n",
       "      <td>112.50</td>\n",
       "      <td>0</td>\n",
       "      <td>0</td>\n",
       "      <td>2017-08-16</td>\n",
       "    </tr>\n",
       "    <tr>\n",
       "      <th>4</th>\n",
       "      <td>108790</td>\n",
       "      <td>Resort Hotel</td>\n",
       "      <td>192</td>\n",
       "      <td>4</td>\n",
       "      <td>7</td>\n",
       "      <td>2</td>\n",
       "      <td>0.0</td>\n",
       "      <td>0</td>\n",
       "      <td>BB</td>\n",
       "      <td>ROU</td>\n",
       "      <td>...</td>\n",
       "      <td>E</td>\n",
       "      <td>0</td>\n",
       "      <td>240.0</td>\n",
       "      <td>0.0</td>\n",
       "      <td>0</td>\n",
       "      <td>Transient</td>\n",
       "      <td>190.18</td>\n",
       "      <td>0</td>\n",
       "      <td>1</td>\n",
       "      <td>2017-07-15</td>\n",
       "    </tr>\n",
       "    <tr>\n",
       "      <th>...</th>\n",
       "      <td>...</td>\n",
       "      <td>...</td>\n",
       "      <td>...</td>\n",
       "      <td>...</td>\n",
       "      <td>...</td>\n",
       "      <td>...</td>\n",
       "      <td>...</td>\n",
       "      <td>...</td>\n",
       "      <td>...</td>\n",
       "      <td>...</td>\n",
       "      <td>...</td>\n",
       "      <td>...</td>\n",
       "      <td>...</td>\n",
       "      <td>...</td>\n",
       "      <td>...</td>\n",
       "      <td>...</td>\n",
       "      <td>...</td>\n",
       "      <td>...</td>\n",
       "      <td>...</td>\n",
       "      <td>...</td>\n",
       "      <td>...</td>\n",
       "    </tr>\n",
       "    <tr>\n",
       "      <th>10094</th>\n",
       "      <td>118880</td>\n",
       "      <td>City Hotel</td>\n",
       "      <td>157</td>\n",
       "      <td>2</td>\n",
       "      <td>5</td>\n",
       "      <td>3</td>\n",
       "      <td>0.0</td>\n",
       "      <td>0</td>\n",
       "      <td>BB</td>\n",
       "      <td>PRT</td>\n",
       "      <td>...</td>\n",
       "      <td>D</td>\n",
       "      <td>0</td>\n",
       "      <td>86.0</td>\n",
       "      <td>0.0</td>\n",
       "      <td>0</td>\n",
       "      <td>Transient</td>\n",
       "      <td>140.40</td>\n",
       "      <td>0</td>\n",
       "      <td>0</td>\n",
       "      <td>2017-08-24</td>\n",
       "    </tr>\n",
       "    <tr>\n",
       "      <th>10095</th>\n",
       "      <td>118881</td>\n",
       "      <td>City Hotel</td>\n",
       "      <td>88</td>\n",
       "      <td>0</td>\n",
       "      <td>1</td>\n",
       "      <td>2</td>\n",
       "      <td>0.0</td>\n",
       "      <td>0</td>\n",
       "      <td>BB</td>\n",
       "      <td>AUS</td>\n",
       "      <td>...</td>\n",
       "      <td>D</td>\n",
       "      <td>0</td>\n",
       "      <td>9.0</td>\n",
       "      <td>0.0</td>\n",
       "      <td>0</td>\n",
       "      <td>Transient</td>\n",
       "      <td>155.00</td>\n",
       "      <td>0</td>\n",
       "      <td>1</td>\n",
       "      <td>2017-08-11</td>\n",
       "    </tr>\n",
       "    <tr>\n",
       "      <th>10096</th>\n",
       "      <td>118882</td>\n",
       "      <td>City Hotel</td>\n",
       "      <td>15</td>\n",
       "      <td>0</td>\n",
       "      <td>1</td>\n",
       "      <td>2</td>\n",
       "      <td>0.0</td>\n",
       "      <td>0</td>\n",
       "      <td>SC</td>\n",
       "      <td>DEU</td>\n",
       "      <td>...</td>\n",
       "      <td>A</td>\n",
       "      <td>0</td>\n",
       "      <td>9.0</td>\n",
       "      <td>0.0</td>\n",
       "      <td>0</td>\n",
       "      <td>Transient</td>\n",
       "      <td>160.00</td>\n",
       "      <td>0</td>\n",
       "      <td>1</td>\n",
       "      <td>2017-08-16</td>\n",
       "    </tr>\n",
       "    <tr>\n",
       "      <th>10097</th>\n",
       "      <td>118883</td>\n",
       "      <td>Resort Hotel</td>\n",
       "      <td>129</td>\n",
       "      <td>0</td>\n",
       "      <td>3</td>\n",
       "      <td>2</td>\n",
       "      <td>0.0</td>\n",
       "      <td>0</td>\n",
       "      <td>BB</td>\n",
       "      <td>PRT</td>\n",
       "      <td>...</td>\n",
       "      <td>E</td>\n",
       "      <td>0</td>\n",
       "      <td>240.0</td>\n",
       "      <td>0.0</td>\n",
       "      <td>0</td>\n",
       "      <td>Transient</td>\n",
       "      <td>259.00</td>\n",
       "      <td>0</td>\n",
       "      <td>1</td>\n",
       "      <td>2017-08-09</td>\n",
       "    </tr>\n",
       "    <tr>\n",
       "      <th>10098</th>\n",
       "      <td>118884</td>\n",
       "      <td>City Hotel</td>\n",
       "      <td>143</td>\n",
       "      <td>1</td>\n",
       "      <td>3</td>\n",
       "      <td>3</td>\n",
       "      <td>1.0</td>\n",
       "      <td>0</td>\n",
       "      <td>BB</td>\n",
       "      <td>DEU</td>\n",
       "      <td>...</td>\n",
       "      <td>G</td>\n",
       "      <td>2</td>\n",
       "      <td>8.0</td>\n",
       "      <td>0.0</td>\n",
       "      <td>0</td>\n",
       "      <td>Transient</td>\n",
       "      <td>256.50</td>\n",
       "      <td>0</td>\n",
       "      <td>1</td>\n",
       "      <td>2017-07-17</td>\n",
       "    </tr>\n",
       "  </tbody>\n",
       "</table>\n",
       "<p>10099 rows × 26 columns</p>\n",
       "</div>"
      ],
      "text/plain": [
       "           id         hotel  lead_time  stays_in_weekend_nights  \\\n",
       "0      108786    City Hotel        292                        0   \n",
       "1      108787    City Hotel         20                        1   \n",
       "2      108788  Resort Hotel        192                        2   \n",
       "3      108789    City Hotel         94                        0   \n",
       "4      108790  Resort Hotel        192                        4   \n",
       "...       ...           ...        ...                      ...   \n",
       "10094  118880    City Hotel        157                        2   \n",
       "10095  118881    City Hotel         88                        0   \n",
       "10096  118882    City Hotel         15                        0   \n",
       "10097  118883  Resort Hotel        129                        0   \n",
       "10098  118884    City Hotel        143                        1   \n",
       "\n",
       "       stays_in_week_nights  adults  children  babies meal country  ...  \\\n",
       "0                         2       2       0.0       0   SC     DEU  ...   \n",
       "1                         2       2       0.0       0   SC     NLD  ...   \n",
       "2                         0       2       0.0       0   BB     BEL  ...   \n",
       "3                         2       2       0.0       0   SC     CHN  ...   \n",
       "4                         7       2       0.0       0   BB     ROU  ...   \n",
       "...                     ...     ...       ...     ...  ...     ...  ...   \n",
       "10094                     5       3       0.0       0   BB     PRT  ...   \n",
       "10095                     1       2       0.0       0   BB     AUS  ...   \n",
       "10096                     1       2       0.0       0   SC     DEU  ...   \n",
       "10097                     3       2       0.0       0   BB     PRT  ...   \n",
       "10098                     3       3       1.0       0   BB     DEU  ...   \n",
       "\n",
       "      assigned_room_type booking_changes  agent  company  \\\n",
       "0                      A               0    9.0      0.0   \n",
       "1                      A               0    9.0      0.0   \n",
       "2                      E               0    0.0      0.0   \n",
       "3                      A               0    9.0      0.0   \n",
       "4                      E               0  240.0      0.0   \n",
       "...                  ...             ...    ...      ...   \n",
       "10094                  D               0   86.0      0.0   \n",
       "10095                  D               0    9.0      0.0   \n",
       "10096                  A               0    9.0      0.0   \n",
       "10097                  E               0  240.0      0.0   \n",
       "10098                  G               2    8.0      0.0   \n",
       "\n",
       "       days_in_waiting_list customer_type     adr  \\\n",
       "0                         0     Transient   89.10   \n",
       "1                         0     Transient  140.00   \n",
       "2                         0     Transient  167.52   \n",
       "3                         0     Transient  112.50   \n",
       "4                         0     Transient  190.18   \n",
       "...                     ...           ...     ...   \n",
       "10094                     0     Transient  140.40   \n",
       "10095                     0     Transient  155.00   \n",
       "10096                     0     Transient  160.00   \n",
       "10097                     0     Transient  259.00   \n",
       "10098                     0     Transient  256.50   \n",
       "\n",
       "       required_car_parking_spaces  total_of_special_requests  arrival_date  \n",
       "0                                0                          4    2017-08-02  \n",
       "1                                0                          1    2017-07-07  \n",
       "2                                1                          2    2017-07-23  \n",
       "3                                0                          0    2017-08-16  \n",
       "4                                0                          1    2017-07-15  \n",
       "...                            ...                        ...           ...  \n",
       "10094                            0                          0    2017-08-24  \n",
       "10095                            0                          1    2017-08-11  \n",
       "10096                            0                          1    2017-08-16  \n",
       "10097                            0                          1    2017-08-09  \n",
       "10098                            0                          1    2017-07-17  \n",
       "\n",
       "[10099 rows x 26 columns]"
      ]
     },
     "execution_count": 26,
     "metadata": {
     },
     "output_type": "execute_result"
    }
   ],
   "source": [
    "tst"
   ]
  },
  {
   "cell_type": "code",
   "execution_count": 27,
   "metadata": {
    "collapsed": false
   },
   "outputs": [
   ],
   "source": [
    "id_val=tst['id']\n",
    "tst=tst.drop(['id'], axis=1)\n",
    "tst=tst.drop(['arrival_date'], axis=1)\n",
    "\n",
    "from sklearn import preprocessing\n",
    "le=preprocessing.LabelEncoder()\n",
    "\n",
    "for i in tst.columns:\n",
    "    if tst[i].dtypes ==\"object\":\n",
    "        le.fit(tst[i])\n",
    "        tst[i]=le.transform(tst[i])"
   ]
  },
  {
   "cell_type": "code",
   "execution_count": 28,
   "metadata": {
    "collapsed": false
   },
   "outputs": [
   ],
   "source": [
    "test_pred=classifier.predict(tst)"
   ]
  },
  {
   "cell_type": "code",
   "execution_count": 29,
   "metadata": {
    "collapsed": false
   },
   "outputs": [
    {
     "data": {
      "text/plain": [
       "array([0, 0, 0, ..., 0, 0, 0])"
      ]
     },
     "execution_count": 29,
     "metadata": {
     },
     "output_type": "execute_result"
    }
   ],
   "source": [
    "test_pred"
   ]
  },
  {
   "cell_type": "code",
   "execution_count": 30,
   "metadata": {
    "collapsed": false
   },
   "outputs": [
   ],
   "source": [
    "submit_xg =pd.DataFrame()"
   ]
  },
  {
   "cell_type": "code",
   "execution_count": 31,
   "metadata": {
    "collapsed": false
   },
   "outputs": [
   ],
   "source": [
    "submit_xg[\"id\"]=id_val\n",
    "submit_xg[\"is_canceled\"] =test_pred\n"
   ]
  },
  {
   "cell_type": "code",
   "execution_count": 0,
   "metadata": {
    "collapsed": false
   },
   "outputs": [
   ],
   "source": [
   ]
  }
 ],
 "metadata": {
  "kernelspec": {
   "display_name": "Python 3 (system-wide)",
   "language": "python",
   "metadata": {
    "cocalc": {
     "description": "Python 3 programming language",
     "priority": 100,
     "url": "https://www.python.org/"
    }
   },
   "name": "python3"
  },
  "language_info": {
   "codemirror_mode": {
    "name": "ipython",
    "version": 3
   },
   "file_extension": ".py",
   "mimetype": "text/x-python",
   "name": "python",
   "nbconvert_exporter": "python",
   "pygments_lexer": "ipython3",
   "version": "3.6.9"
  }
 },
 "nbformat": 4,
 "nbformat_minor": 4
}